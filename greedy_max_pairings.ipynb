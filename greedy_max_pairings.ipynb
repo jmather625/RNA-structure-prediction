{
 "cells": [
  {
   "cell_type": "code",
   "execution_count": 5,
   "metadata": {},
   "outputs": [],
   "source": [
    "import queue"
   ]
  },
  {
   "cell_type": "code",
   "execution_count": 11,
   "metadata": {},
   "outputs": [],
   "source": [
    "def greedy_max_parings(s, T, return_pairings=False):\n",
    "    \"\"\"    \n",
    "    Very simple algorithm. It reads the string left to right, and for each read it sees if it has\n",
    "    seen a match for that letter earlier (which is maintained in a queue for that letter that matches). If the \n",
    "    queue is empty, no match is possible, so add the current letter to it's queue\n",
    "    \n",
    "    Conceptually, the max base pairs for any string is min(count(A), count(U)) + min(count(C), count(G))\n",
    "    This algorithm finds the pairings greedily, without care for pseudoknots\n",
    "    \"\"\"\n",
    "    letter_to_queue = {k: queue.Queue() for k in T}\n",
    "    \n",
    "    num_pairings = 0\n",
    "    pairings = []\n",
    "    \n",
    "    for i, l in enumerate(s):\n",
    "        match = T[l] # complement\n",
    "        if not letter_to_queue[match].empty():\n",
    "            # match current letter by popping it from the queue for the match letter\n",
    "            idx = letter_to_queue[match].get()\n",
    "            pairings.append((i, idx))\n",
    "            num_pairings += 1\n",
    "        else:\n",
    "            # store index in the queue\n",
    "            letter_to_queue[l].put(i)\n",
    "    \n",
    "    if return_pairings:\n",
    "        return pairings\n",
    "    \n",
    "    return num_pairings\n",
    "\n",
    "\n",
    "def max_pairings_possible(s, T):\n",
    "    \"\"\"\n",
    "    Computes the max pairings possible for a string\n",
    "    \n",
    "    Should always equal greedy max pairings\n",
    "    \"\"\"\n",
    "    \n",
    "    letter_to_count = {k:0 for k in T}\n",
    "    \n",
    "    for l in s:\n",
    "        letter_to_count[l] += 1\n",
    "        \n",
    "    seen = set()\n",
    "    count = 0\n",
    "    for l in T:\n",
    "        if l in seen:\n",
    "            continue\n",
    "        \n",
    "        # process the letter and its match\n",
    "        seen.add(l)\n",
    "        seen.add(T[l])\n",
    "        \n",
    "        count += min(letter_to_count[l], letter_to_count[T[l]])\n",
    "        \n",
    "    return count\n",
    "        "
   ]
  },
  {
   "cell_type": "code",
   "execution_count": 12,
   "metadata": {},
   "outputs": [],
   "source": [
    "T = {\n",
    "    'A': 'U',\n",
    "    'G': 'C',\n",
    "    'C': 'G',\n",
    "    'U': 'A',\n",
    "}"
   ]
  },
  {
   "cell_type": "code",
   "execution_count": 13,
   "metadata": {},
   "outputs": [
    {
     "data": {
      "text/plain": [
       "2"
      ]
     },
     "execution_count": 13,
     "metadata": {},
     "output_type": "execute_result"
    }
   ],
   "source": [
    "# clear example of something that Nussinov would get 1 but greedy 2\n",
    "s = 'ACUG'\n",
    "greedy_max_parings(s, T)"
   ]
  },
  {
   "cell_type": "code",
   "execution_count": 14,
   "metadata": {},
   "outputs": [
    {
     "data": {
      "text/plain": [
       "(10, 10)"
      ]
     },
     "execution_count": 14,
     "metadata": {},
     "output_type": "execute_result"
    }
   ],
   "source": [
    "s = 'GCUCGGGUUCCCUAUUCAAGAGC'\n",
    "greedy_max_parings(s, T), max_pairings_possible(s, T)"
   ]
  },
  {
   "cell_type": "code",
   "execution_count": 16,
   "metadata": {},
   "outputs": [
    {
     "data": {
      "text/plain": [
       "(3, 3)"
      ]
     },
     "execution_count": 16,
     "metadata": {},
     "output_type": "execute_result"
    }
   ],
   "source": [
    "s = 'GCACGACG'\n",
    "greedy_max_parings(s, T), max_pairings_possible(s, T)"
   ]
  },
  {
   "cell_type": "code",
   "execution_count": 17,
   "metadata": {},
   "outputs": [
    {
     "data": {
      "text/plain": [
       "(7, 7)"
      ]
     },
     "execution_count": 17,
     "metadata": {},
     "output_type": "execute_result"
    }
   ],
   "source": [
    "# should have 7 maximum possible\n",
    "s = 'A ACUG GAUC GGUUCA'.replace(' ', '')\n",
    "greedy_max_parings(s, T), max_pairings_possible(s, T)"
   ]
  },
  {
   "cell_type": "code",
   "execution_count": null,
   "metadata": {},
   "outputs": [],
   "source": []
  },
  {
   "cell_type": "code",
   "execution_count": null,
   "metadata": {},
   "outputs": [],
   "source": []
  },
  {
   "cell_type": "code",
   "execution_count": null,
   "metadata": {},
   "outputs": [],
   "source": []
  },
  {
   "cell_type": "code",
   "execution_count": null,
   "metadata": {},
   "outputs": [],
   "source": []
  }
 ],
 "metadata": {
  "kernelspec": {
   "display_name": "Python 3",
   "language": "python",
   "name": "python3"
  },
  "language_info": {
   "codemirror_mode": {
    "name": "ipython",
    "version": 3
   },
   "file_extension": ".py",
   "mimetype": "text/x-python",
   "name": "python",
   "nbconvert_exporter": "python",
   "pygments_lexer": "ipython3",
   "version": "3.7.3"
  }
 },
 "nbformat": 4,
 "nbformat_minor": 2
}
