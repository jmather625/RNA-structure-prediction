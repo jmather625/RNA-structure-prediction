{
 "cells": [
  {
   "cell_type": "code",
   "execution_count": 5,
   "metadata": {},
   "outputs": [],
   "source": [
    "from rna_structure_solver import RNA_Structure_Solver\n",
    "from stats import count_p, find_overlap"
   ]
  },
  {
   "cell_type": "code",
   "execution_count": 2,
   "metadata": {},
   "outputs": [],
   "source": [
    "rns_ns = RNA_Structure_Solver('nussinov')\n",
    "rns_zf = RNA_Structure_Solver('zuker')"
   ]
  },
  {
   "cell_type": "code",
   "execution_count": 14,
   "metadata": {},
   "outputs": [],
   "source": [
    "# 3K0J: http://rnafrabase.cs.put.poznan.pl/?act=pdbdetails&id=3K0J\n",
    "seq1 = 'GCGACUCGGGGUGCCCUCCAUUGCACUCGGAGGCUGAGAAAACCCGUAUACCUGAUCUGGAUAAUGCCAGCGUAGGGAAGUCGC'"
   ]
  },
  {
   "cell_type": "code",
   "execution_count": 15,
   "metadata": {},
   "outputs": [
    {
     "name": "stderr",
     "output_type": "stream",
     "text": [
      "100%|██████████| 3486/3486.0 [00:00<00:00, 22395.52it/s]\n",
      "100%|██████████| 3486/3486.0 [00:05<00:00, 696.54it/s]  \n"
     ]
    }
   ],
   "source": [
    "score1_ns, dot_p1_ns = rns_ns.solve(seq1, min_padding=3)\n",
    "score1_zf, dot_p1_zf = rns_zf.solve(seq1, min_padding=3)"
   ]
  },
  {
   "cell_type": "code",
   "execution_count": 16,
   "metadata": {},
   "outputs": [],
   "source": [
    "official1 = '((((((((((..(((.(((.........))))))........))))....(((....(((......)))....)))..))))))'"
   ]
  },
  {
   "cell_type": "code",
   "execution_count": 17,
   "metadata": {},
   "outputs": [
    {
     "data": {
      "text/plain": [
       "'(((((((.(((((.(((((((...).).))))))(...))..)))).)(.((((..(((((...).)))))..))).).)))))'"
      ]
     },
     "execution_count": 17,
     "metadata": {},
     "output_type": "execute_result"
    }
   ],
   "source": [
    "dot_p1_ns"
   ]
  },
  {
   "cell_type": "code",
   "execution_count": 18,
   "metadata": {},
   "outputs": [
    {
     "data": {
      "text/plain": [
       "'....(...(.................................(....................................).)).'"
      ]
     },
     "execution_count": 18,
     "metadata": {},
     "output_type": "execute_result"
    }
   ],
   "source": [
    "dot_p1_zf"
   ]
  },
  {
   "cell_type": "code",
   "execution_count": 19,
   "metadata": {},
   "outputs": [
    {
     "data": {
      "text/plain": [
       "(30, 3, 22)"
      ]
     },
     "execution_count": 19,
     "metadata": {},
     "output_type": "execute_result"
    }
   ],
   "source": [
    "count_p(dot_p1_ns), count_p(dot_p1_zf), count_p(official1)"
   ]
  },
  {
   "cell_type": "code",
   "execution_count": 22,
   "metadata": {},
   "outputs": [
    {
     "data": {
      "text/plain": [
       "(0.9318181818181818, 0.11363636363636363)"
      ]
     },
     "execution_count": 22,
     "metadata": {},
     "output_type": "execute_result"
    }
   ],
   "source": [
    "find_overlap(dot_p1_ns, official1)/count_p(official1), find_overlap(dot_p1_zf, official1)/count_p(official1)"
   ]
  },
  {
   "cell_type": "code",
   "execution_count": null,
   "metadata": {},
   "outputs": [],
   "source": []
  },
  {
   "cell_type": "code",
   "execution_count": 23,
   "metadata": {},
   "outputs": [],
   "source": [
    "# 4NYA: http://www.rcsb.org/pdb/download/viewFastaFiles.do?structureIdList=4NYA&compressionType=uncompressed\n",
    "seq2 = 'GGACUCGGGGUGCCCUUCUGCGUGAAGGCUGAGAAAUACCCGUAUCACCUGAUCUGGAUAAUGCCAGCGUAGGGAAGUUC'"
   ]
  },
  {
   "cell_type": "code",
   "execution_count": 24,
   "metadata": {},
   "outputs": [
    {
     "name": "stderr",
     "output_type": "stream",
     "text": [
      "100%|██████████| 3160/3160.0 [00:00<00:00, 23513.18it/s]\n",
      "100%|██████████| 3160/3160.0 [00:04<00:00, 724.25it/s] \n"
     ]
    }
   ],
   "source": [
    "score2_ns, dot_p2_ns = rns_ns.solve(seq2, min_padding=3)\n",
    "score2_zf, dot_p2_zf = rns_zf.solve(seq2, min_padding=3)"
   ]
  },
  {
   "cell_type": "code",
   "execution_count": 25,
   "metadata": {},
   "outputs": [],
   "source": [
    "official2 = '(((((((((..(((((........))))).....()..)))).....((((..((((......))))..))))..)))))'"
   ]
  },
  {
   "cell_type": "code",
   "execution_count": 26,
   "metadata": {},
   "outputs": [
    {
     "data": {
      "text/plain": [
       "'.((..((((...)))(((..((((((((.(.(....))))..).))))(((..(((((...).)))))..)))))))).)'"
      ]
     },
     "execution_count": 26,
     "metadata": {},
     "output_type": "execute_result"
    }
   ],
   "source": [
    "dot_p2_ns"
   ]
  },
  {
   "cell_type": "code",
   "execution_count": 27,
   "metadata": {},
   "outputs": [
    {
     "data": {
      "text/plain": [
       "'.(.............................................................................)'"
      ]
     },
     "execution_count": 27,
     "metadata": {},
     "output_type": "execute_result"
    }
   ],
   "source": [
    "dot_p2_zf"
   ]
  },
  {
   "cell_type": "code",
   "execution_count": 28,
   "metadata": {},
   "outputs": [
    {
     "data": {
      "text/plain": [
       "(27, 1, 23)"
      ]
     },
     "execution_count": 28,
     "metadata": {},
     "output_type": "execute_result"
    }
   ],
   "source": [
    "count_p(dot_p2_ns), count_p(dot_p2_zf), count_p(official2)"
   ]
  },
  {
   "cell_type": "code",
   "execution_count": 30,
   "metadata": {},
   "outputs": [
    {
     "data": {
      "text/plain": [
       "(0.5869565217391305, 0.043478260869565216)"
      ]
     },
     "execution_count": 30,
     "metadata": {},
     "output_type": "execute_result"
    }
   ],
   "source": [
    "find_overlap(dot_p2_ns, official2)/count_p(official2), find_overlap(dot_p2_zf, official2)/count_p(official2)"
   ]
  },
  {
   "cell_type": "code",
   "execution_count": null,
   "metadata": {},
   "outputs": [],
   "source": []
  },
  {
   "cell_type": "code",
   "execution_count": 31,
   "metadata": {},
   "outputs": [],
   "source": [
    "# 4NYD: http://www.rcsb.org/pdb/download/viewFastaFiles.do?structureIdList=4NYD&compressionType=uncompressed\n",
    "seq3 = 'GCGACUCGGGGUGCCCUUCUGCGUGAAGGCUGAGAAAUACCCGUAUCACCUGAUCUGGAUAAUGCCAGCGUAGGGAAGUCGCA'"
   ]
  },
  {
   "cell_type": "code",
   "execution_count": 32,
   "metadata": {},
   "outputs": [
    {
     "name": "stderr",
     "output_type": "stream",
     "text": [
      "100%|██████████| 3403/3403.0 [00:00<00:00, 18161.83it/s]\n",
      "100%|██████████| 3403/3403.0 [00:04<00:00, 700.03it/s]  \n"
     ]
    }
   ],
   "source": [
    "score3_ns, dot_p3_ns = rns_ns.solve(seq3, min_padding=3)\n",
    "score3_zf, dot_p3_zf = rns_zf.solve(seq3, min_padding=3)"
   ]
  },
  {
   "cell_type": "code",
   "execution_count": 33,
   "metadata": {},
   "outputs": [],
   "source": [
    "official3 = '.(((((((((..(((((........))))).....()..)))).....((((..((((......))))..))))..)))))..'"
   ]
  },
  {
   "cell_type": "code",
   "execution_count": 34,
   "metadata": {},
   "outputs": [
    {
     "data": {
      "text/plain": [
       "'((((..((((...)))(((..((((((((.(.(....))))..).))))(((..(((((...).)))))..))))))))))).'"
      ]
     },
     "execution_count": 34,
     "metadata": {},
     "output_type": "execute_result"
    }
   ],
   "source": [
    "dot_p3_ns"
   ]
  },
  {
   "cell_type": "code",
   "execution_count": 35,
   "metadata": {},
   "outputs": [
    {
     "data": {
      "text/plain": [
       "'......................(....(...........(.....................................).).).'"
      ]
     },
     "execution_count": 35,
     "metadata": {},
     "output_type": "execute_result"
    }
   ],
   "source": [
    "dot_p3_zf"
   ]
  },
  {
   "cell_type": "code",
   "execution_count": 36,
   "metadata": {},
   "outputs": [
    {
     "data": {
      "text/plain": [
       "(29, 3, 23)"
      ]
     },
     "execution_count": 36,
     "metadata": {},
     "output_type": "execute_result"
    }
   ],
   "source": [
    "count_p(dot_p3_ns), count_p(dot_p3_zf), count_p(official3)"
   ]
  },
  {
   "cell_type": "code",
   "execution_count": 39,
   "metadata": {},
   "outputs": [
    {
     "data": {
      "text/plain": [
       "(0.6304347826086957, 0.043478260869565216)"
      ]
     },
     "execution_count": 39,
     "metadata": {},
     "output_type": "execute_result"
    }
   ],
   "source": [
    "find_overlap(dot_p3_ns, official3)/count_p(official3), find_overlap(dot_p3_zf, official3)/count_p(official3)"
   ]
  },
  {
   "cell_type": "code",
   "execution_count": null,
   "metadata": {},
   "outputs": [],
   "source": []
  },
  {
   "cell_type": "code",
   "execution_count": null,
   "metadata": {},
   "outputs": [],
   "source": []
  }
 ],
 "metadata": {
  "kernelspec": {
   "display_name": "Python 3",
   "language": "python",
   "name": "python3"
  },
  "language_info": {
   "codemirror_mode": {
    "name": "ipython",
    "version": 3
   },
   "file_extension": ".py",
   "mimetype": "text/x-python",
   "name": "python",
   "nbconvert_exporter": "python",
   "pygments_lexer": "ipython3",
   "version": "3.7.3"
  }
 },
 "nbformat": 4,
 "nbformat_minor": 2
}
