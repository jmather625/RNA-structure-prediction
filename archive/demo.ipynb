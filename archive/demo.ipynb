{
 "cells": [
  {
   "cell_type": "code",
   "execution_count": 2,
   "metadata": {},
   "outputs": [],
   "source": [
    "from nussinov import Nussinov"
   ]
  },
  {
   "cell_type": "code",
   "execution_count": 3,
   "metadata": {},
   "outputs": [],
   "source": [
    "T = {\n",
    "    'A': 'U',\n",
    "    'G': 'C',\n",
    "    'C': 'G',\n",
    "    'U': 'A',\n",
    "}"
   ]
  },
  {
   "cell_type": "code",
   "execution_count": 4,
   "metadata": {},
   "outputs": [
    {
     "data": {
      "text/plain": [
       "10"
      ]
     },
     "execution_count": 4,
     "metadata": {},
     "output_type": "execute_result"
    }
   ],
   "source": [
    "s = 'GCUCGGG UUCCC UAU UCA AGAGC'.replace(' ', '') # should be 10\n",
    "s = s\n",
    "ns = Nussinov(s)\n",
    "ns.solve(min_padding=0)"
   ]
  },
  {
   "cell_type": "code",
   "execution_count": 5,
   "metadata": {},
   "outputs": [
    {
     "name": "stdout",
     "output_type": "stream",
     "text": [
      "G C U C G G G U U C C C U A U U C A A G A G C\n",
      "---------------------------------------------\n",
      "( ( ( ( ( ( ( - - ) ) ) ( ( ) ( - ) ) ) ) ) )\n"
     ]
    }
   ],
   "source": [
    "print(ns.dot_parentheses(prettify=True))"
   ]
  },
  {
   "cell_type": "code",
   "execution_count": 6,
   "metadata": {},
   "outputs": [
    {
     "name": "stdout",
     "output_type": "stream",
     "text": [
      "G C U C G G G U U C C C U A U U C A A G A G C\n",
      "---------------------------------------------\n",
      "( ) ( ( ) ( ( - - ) ) ( ( ) ( ( - ) ) ) ) ( )\n"
     ]
    }
   ],
   "source": [
    "ns.solve(min_padding=0, tie_break_permute=['B', 'M', 'D', 'L'])\n",
    "print(ns.dot_parentheses(prettify=True))"
   ]
  },
  {
   "cell_type": "code",
   "execution_count": 7,
   "metadata": {},
   "outputs": [],
   "source": [
    "result = ns.evaluate_tie_breaks(min_padding=0, prettify=True)"
   ]
  },
  {
   "cell_type": "code",
   "execution_count": 8,
   "metadata": {},
   "outputs": [
    {
     "data": {
      "text/plain": [
       "2"
      ]
     },
     "execution_count": 8,
     "metadata": {},
     "output_type": "execute_result"
    }
   ],
   "source": [
    "len(result.keys())"
   ]
  },
  {
   "cell_type": "code",
   "execution_count": 9,
   "metadata": {},
   "outputs": [
    {
     "data": {
      "text/plain": [
       "[('L', 'D', 'M', 'B'),\n",
       " ('L', 'M', 'D', 'B'),\n",
       " ('L', 'M', 'B', 'D'),\n",
       " ('D', 'L', 'M', 'B'),\n",
       " ('D', 'M', 'L', 'B'),\n",
       " ('D', 'M', 'B', 'L'),\n",
       " ('M', 'L', 'D', 'B'),\n",
       " ('M', 'L', 'B', 'D'),\n",
       " ('M', 'D', 'L', 'B'),\n",
       " ('M', 'D', 'B', 'L'),\n",
       " ('M', 'B', 'L', 'D'),\n",
       " ('M', 'B', 'D', 'L')]"
      ]
     },
     "execution_count": 9,
     "metadata": {},
     "output_type": "execute_result"
    }
   ],
   "source": [
    "possibilities = list(result.keys())\n",
    "\n",
    "result[possibilities[0]]"
   ]
  },
  {
   "cell_type": "code",
   "execution_count": 10,
   "metadata": {},
   "outputs": [
    {
     "data": {
      "text/plain": [
       "[('L', 'D', 'B', 'M'),\n",
       " ('L', 'B', 'D', 'M'),\n",
       " ('L', 'B', 'M', 'D'),\n",
       " ('D', 'L', 'B', 'M'),\n",
       " ('D', 'B', 'L', 'M'),\n",
       " ('D', 'B', 'M', 'L'),\n",
       " ('B', 'L', 'D', 'M'),\n",
       " ('B', 'L', 'M', 'D'),\n",
       " ('B', 'D', 'L', 'M'),\n",
       " ('B', 'D', 'M', 'L'),\n",
       " ('B', 'M', 'L', 'D'),\n",
       " ('B', 'M', 'D', 'L')]"
      ]
     },
     "execution_count": 10,
     "metadata": {},
     "output_type": "execute_result"
    }
   ],
   "source": [
    "result[possibilities[1]]"
   ]
  },
  {
   "cell_type": "markdown",
   "metadata": {},
   "source": [
    "There are clearly some patterns here. `B` and `M` are clearly at odds, and `L` and `D` evenly split on the options. We would like to further investigate these patterns. This includes the number of unique structures and their count distribution, the dynamics of the \"dominating\" options (most likely `B` and `M`) and the remaining options, and the affect of `min_padding.`\n",
    "\n",
    "A real example is below."
   ]
  },
  {
   "cell_type": "code",
   "execution_count": 17,
   "metadata": {},
   "outputs": [],
   "source": [
    "# https://rnacentral.org/rna/URS00000DE3E2/9606\n",
    "# Homo sapiens small nucleolar RNA, H/ACA box 73A (SNORA73A)\n",
    "\n",
    "s = 'GUCUUCUCAUUGAGCUCCUUUCUGUCUAUCAGUGGCAGUUUAUGGAUUCGCACGAGAAGAAGAGAGAAUUCACAGAACUAGCAUUAUUUUACCUUCUGUCUUUACAGAGGUAUAUUUAGCUGUAUUGUGAGACAUUC'"
   ]
  },
  {
   "cell_type": "code",
   "execution_count": 18,
   "metadata": {},
   "outputs": [
    {
     "name": "stdout",
     "output_type": "stream",
     "text": [
      "137\n"
     ]
    }
   ],
   "source": [
    "print(len(s))"
   ]
  },
  {
   "cell_type": "code",
   "execution_count": 19,
   "metadata": {},
   "outputs": [
    {
     "name": "stderr",
     "output_type": "stream",
     "text": [
      "100%|██████████| 9316/9316.0 [00:00<00:00, 11422.28it/s]\n"
     ]
    },
    {
     "data": {
      "text/plain": [
       "49"
      ]
     },
     "execution_count": 19,
     "metadata": {},
     "output_type": "execute_result"
    }
   ],
   "source": [
    "ns = Nussinov(s)\n",
    "ns.solve(min_padding=3)"
   ]
  },
  {
   "cell_type": "code",
   "execution_count": 20,
   "metadata": {},
   "outputs": [
    {
     "name": "stderr",
     "output_type": "stream",
     "text": [
      "100%|██████████| 9316/9316.0 [00:00<00:00, 13243.32it/s]\n",
      "100%|██████████| 9316/9316.0 [00:00<00:00, 11471.24it/s]\n",
      "100%|██████████| 9316/9316.0 [00:01<00:00, 7355.10it/s] \n",
      "100%|██████████| 9316/9316.0 [00:00<00:00, 12456.77it/s]\n",
      "100%|██████████| 9316/9316.0 [00:00<00:00, 10905.51it/s]\n",
      "100%|██████████| 9316/9316.0 [00:00<00:00, 11129.10it/s]\n",
      "100%|██████████| 9316/9316.0 [00:00<00:00, 9898.97it/s] \n",
      "100%|██████████| 9316/9316.0 [00:00<00:00, 10795.53it/s]\n",
      "100%|██████████| 9316/9316.0 [00:01<00:00, 7776.16it/s] \n",
      "100%|██████████| 9316/9316.0 [00:00<00:00, 12896.67it/s]\n",
      "100%|██████████| 9316/9316.0 [00:00<00:00, 10754.30it/s]\n",
      "100%|██████████| 9316/9316.0 [00:00<00:00, 10428.94it/s]\n",
      "100%|██████████| 9316/9316.0 [00:00<00:00, 11424.49it/s]\n",
      "100%|██████████| 9316/9316.0 [00:00<00:00, 10447.20it/s]\n",
      "100%|██████████| 9316/9316.0 [00:00<00:00, 10054.36it/s]\n",
      "100%|██████████| 9316/9316.0 [00:00<00:00, 11013.31it/s]\n",
      "100%|██████████| 9316/9316.0 [00:00<00:00, 10290.67it/s]\n",
      "100%|██████████| 9316/9316.0 [00:01<00:00, 7408.35it/s] \n",
      "100%|██████████| 9316/9316.0 [00:00<00:00, 11633.45it/s]\n",
      "100%|██████████| 9316/9316.0 [00:00<00:00, 10648.16it/s]\n",
      "100%|██████████| 9316/9316.0 [00:00<00:00, 10333.18it/s]\n",
      "100%|██████████| 9316/9316.0 [00:00<00:00, 12561.72it/s]\n",
      "100%|██████████| 9316/9316.0 [00:00<00:00, 11715.82it/s]\n",
      "100%|██████████| 9316/9316.0 [00:00<00:00, 12759.42it/s]\n"
     ]
    }
   ],
   "source": [
    "result = ns.evaluate_tie_breaks(min_padding=3, prettify=False)"
   ]
  },
  {
   "cell_type": "code",
   "execution_count": 13,
   "metadata": {},
   "outputs": [
    {
     "data": {
      "text/plain": [
       "6"
      ]
     },
     "execution_count": 13,
     "metadata": {},
     "output_type": "execute_result"
    }
   ],
   "source": [
    "len(result.keys())"
   ]
  },
  {
   "cell_type": "code",
   "execution_count": 14,
   "metadata": {},
   "outputs": [],
   "source": [
    "possibilities = list(result.keys())"
   ]
  },
  {
   "cell_type": "code",
   "execution_count": 15,
   "metadata": {},
   "outputs": [
    {
     "name": "stdout",
     "output_type": "stream",
     "text": [
      "0 4\n",
      "1 4\n",
      "2 12\n",
      "3 1\n",
      "4 1\n",
      "5 2\n"
     ]
    }
   ],
   "source": [
    "for i, p in enumerate(possibilities):\n",
    "    print(i, len(result[p]))"
   ]
  },
  {
   "cell_type": "code",
   "execution_count": 16,
   "metadata": {},
   "outputs": [
    {
     "data": {
      "text/plain": [
       "[('M', 'D', 'B', 'L')]"
      ]
     },
     "execution_count": 16,
     "metadata": {},
     "output_type": "execute_result"
    }
   ],
   "source": [
    "result[possibilities[4]]"
   ]
  },
  {
   "cell_type": "code",
   "execution_count": 18,
   "metadata": {},
   "outputs": [
    {
     "data": {
      "text/plain": [
       "[('B', 'L', 'D', 'M'), ('B', 'D', 'L', 'M'), ('B', 'D', 'M', 'L')]"
      ]
     },
     "execution_count": 18,
     "metadata": {},
     "output_type": "execute_result"
    }
   ],
   "source": [
    "result[possibilities[11]]"
   ]
  },
  {
   "cell_type": "code",
   "execution_count": 19,
   "metadata": {},
   "outputs": [
    {
     "data": {
      "text/plain": [
       "[('B', 'L', 'M', 'D'), ('B', 'M', 'L', 'D'), ('B', 'M', 'D', 'L')]"
      ]
     },
     "execution_count": 19,
     "metadata": {},
     "output_type": "execute_result"
    }
   ],
   "source": [
    "result[possibilities[12]]"
   ]
  },
  {
   "cell_type": "code",
   "execution_count": null,
   "metadata": {},
   "outputs": [],
   "source": []
  },
  {
   "cell_type": "code",
   "execution_count": 20,
   "metadata": {},
   "outputs": [],
   "source": [
    "# website dot_bracket notation:\n",
    "official = \"..((((((.....(((((...(((((.......))))).....)))...))..))))))..........((((((.................((((((......))))))..............)))))).......\"\n"
   ]
  },
  {
   "cell_type": "code",
   "execution_count": 21,
   "metadata": {},
   "outputs": [],
   "source": [
    "count = 0\n",
    "for c in official:\n",
    "    if c == '(':\n",
    "        count += 1"
   ]
  },
  {
   "cell_type": "code",
   "execution_count": 22,
   "metadata": {},
   "outputs": [
    {
     "data": {
      "text/plain": [
       "28"
      ]
     },
     "execution_count": 22,
     "metadata": {},
     "output_type": "execute_result"
    }
   ],
   "source": [
    "count"
   ]
  },
  {
   "cell_type": "code",
   "execution_count": null,
   "metadata": {},
   "outputs": [],
   "source": []
  },
  {
   "cell_type": "markdown",
   "metadata": {},
   "source": [
    "We are planning to compare Nussinov to Greedy across a range of real inputs to see how they trend together. It seems as if in general Nussinov is usually pretty close to the greedy maximum number of pairings."
   ]
  },
  {
   "cell_type": "code",
   "execution_count": 23,
   "metadata": {},
   "outputs": [],
   "source": [
    "from greedy import GreedySolver"
   ]
  },
  {
   "cell_type": "code",
   "execution_count": 24,
   "metadata": {},
   "outputs": [
    {
     "data": {
      "text/plain": [
       "60"
      ]
     },
     "execution_count": 24,
     "metadata": {},
     "output_type": "execute_result"
    }
   ],
   "source": [
    "# maximum possible\n",
    "gs = GreedySolver(s)\n",
    "gs.solve()"
   ]
  },
  {
   "cell_type": "code",
   "execution_count": null,
   "metadata": {},
   "outputs": [],
   "source": []
  }
 ],
 "metadata": {
  "kernelspec": {
   "display_name": "Python 3",
   "language": "python",
   "name": "python3"
  },
  "language_info": {
   "codemirror_mode": {
    "name": "ipython",
    "version": 3
   },
   "file_extension": ".py",
   "mimetype": "text/x-python",
   "name": "python",
   "nbconvert_exporter": "python",
   "pygments_lexer": "ipython3",
   "version": "3.7.3"
  }
 },
 "nbformat": 4,
 "nbformat_minor": 2
}
