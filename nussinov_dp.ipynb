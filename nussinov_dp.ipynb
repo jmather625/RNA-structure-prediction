{
 "cells": [
  {
   "cell_type": "code",
   "execution_count": 2,
   "metadata": {},
   "outputs": [],
   "source": [
    "import numpy as np\n",
    "import queue"
   ]
  },
  {
   "cell_type": "code",
   "execution_count": 3,
   "metadata": {},
   "outputs": [],
   "source": [
    "class Node:\n",
    "    # stored in the DP table while filling it out for easy traceback\n",
    "    score = 0\n",
    "    coord = None\n",
    "    # two in case of bifurcation\n",
    "    back_pointer1 = None\n",
    "    back_pointer2 = None\n",
    "    # useful booleans for backtrace and other functions\n",
    "    bifurcate = False\n",
    "    match = False"
   ]
  },
  {
   "cell_type": "code",
   "execution_count": 4,
   "metadata": {},
   "outputs": [],
   "source": [
    "class Nussinov:\n",
    "    def __init__(self, s, T):\n",
    "        # pass a string and a dictionary T that tells us what matches each key\n",
    "        # T structure: { 'A': 'U'\n",
    "        #             ...\n",
    "        #              ... }\n",
    "        \n",
    "        self.s = s\n",
    "        self.T = T\n",
    "        self.table = np.array([[Node() for _ in range(len(s))] for _ in range(len(s))])\n",
    "        self.trace = None # backtrace, currently None\n",
    "        \n",
    "    def solve(self):\n",
    "        \"\"\"\n",
    "        DP solution to nussinov\n",
    "        \"\"\"\n",
    "        \n",
    "        # we fill the table diagonally\n",
    "        cur_i, cur_j = 0, 1\n",
    "        next_i_start, next_j_start = 0, 2\n",
    "\n",
    "        while cur_i != 0 or cur_j != len(self.s):\n",
    "            if cur_j - cur_i >= 2: # if bifurcation is possible\n",
    "                options = [(self.table[cur_i,k].score + self.table[k+1,cur_j].score, (cur_i,k), (k+1,cur_j)) for k in range(cur_i+1, cur_j)]\n",
    "                bifurcation = max(options, key = lambda x: x[0]) # choose max based on score (index 0 of tuple)\n",
    "                bifurcation = bifurcation\n",
    "            else:\n",
    "                bifurcation = (0, None, None)\n",
    "\n",
    "            if self.T[self.s[cur_i]] == self.s[cur_j]: # if we have a match\n",
    "                match = (1 + self.table[cur_i+1,cur_j-1].score, (cur_i+1, cur_j-1))\n",
    "            else:\n",
    "                match = (0, None)\n",
    "\n",
    "            down = (self.table[cur_i+1,cur_j].score, (cur_i+1,cur_j))\n",
    "            left = (self.table[cur_i,cur_j-1].score, (cur_i,cur_j-1))\n",
    "\n",
    "            # tie breaking would happen here\n",
    "            choice = max(left, down, match, bifurcation, key=lambda x: x[0])\n",
    "            new_node = Node()\n",
    "            new_node.score = choice[0]\n",
    "            new_node.coord = (cur_i, cur_j)\n",
    "            if choice[1] == (cur_i+1,cur_j-1): # sees if we chose to match\n",
    "                new_node.match = True\n",
    "            \n",
    "            if len(choice) == 3: # bifurcation\n",
    "                new_node.back_pointer1 = choice[1]\n",
    "                new_node.back_pointer2 = choice[2]\n",
    "                new_node.bifurcate = True\n",
    "            else: # regular\n",
    "                new_node.back_pointer1 = choice[1]\n",
    "            \n",
    "            self.table[cur_i, cur_j] = new_node\n",
    "\n",
    "            cur_i += 1\n",
    "            cur_j += 1\n",
    "\n",
    "            if cur_j >= len(self.s):\n",
    "                cur_i = next_i_start\n",
    "                cur_j = next_j_start\n",
    "                next_j_start += 1\n",
    "\n",
    "        return self.table[0, len(self.s)-1].score # top right corner has the answer\n",
    "    \n",
    "    \n",
    "    def backtrace(self):\n",
    "        # backtraces and returns sequences of nodes that led to the final path\n",
    "        if self.trace is not None: # already computed\n",
    "            return self.trace\n",
    "        \n",
    "        start_node = self.table[0,len(self.s)-1]\n",
    "        self.trace = []\n",
    "        \n",
    "        node_queue = queue.Queue()\n",
    "        node_queue.put(start_node)\n",
    "        \n",
    "        while not node_queue.empty():\n",
    "            cur_node = node_queue.get()\n",
    "            self.trace.append(cur_node)\n",
    "            \n",
    "            if cur_node.back_pointer1 is not None:\n",
    "                pointer = cur_node.back_pointer1\n",
    "                node_queue.put(self.table[pointer])\n",
    "                \n",
    "            if cur_node.back_pointer2 is not None:\n",
    "                pointer = cur_node.back_pointer2\n",
    "                node_queue.put(self.table[pointer])\n",
    "                \n",
    "        return self.trace\n",
    "    \n",
    "    \n",
    "    def dot_parentheses(self):\n",
    "        if self.trace is None:\n",
    "            self.backtrace()\n",
    "        \n",
    "        result = ['-' for _ in range(len(s))] # gapped sequence\n",
    "        for node in self.trace:\n",
    "            if not node.match:\n",
    "                continue\n",
    "            i, j = node.coord\n",
    "            result[i] = '('\n",
    "            result[j] = ')'\n",
    "        \n",
    "        # printing\n",
    "        ref = ' '.join(self.s)\n",
    "        print(ref)\n",
    "        middle = ''\n",
    "        for _ in range(len(ref)):\n",
    "            middle += '-'\n",
    "        print(middle)\n",
    "        print(' '.join(result))\n",
    "        "
   ]
  },
  {
   "cell_type": "code",
   "execution_count": 5,
   "metadata": {},
   "outputs": [],
   "source": [
    "T = {\n",
    "    'A': 'U',\n",
    "    'G': 'C',\n",
    "    'C': 'G',\n",
    "    'U': 'A',\n",
    "}"
   ]
  },
  {
   "cell_type": "code",
   "execution_count": 6,
   "metadata": {},
   "outputs": [
    {
     "data": {
      "text/plain": [
       "10"
      ]
     },
     "execution_count": 6,
     "metadata": {},
     "output_type": "execute_result"
    }
   ],
   "source": [
    "s = 'GCUCGGG UUCCC UAU UCA AGAGC'.replace(' ', '') # should be 10\n",
    "ns = Nussinov(s, T)\n",
    "ns.solve()"
   ]
  },
  {
   "cell_type": "code",
   "execution_count": 7,
   "metadata": {},
   "outputs": [
    {
     "name": "stdout",
     "output_type": "stream",
     "text": [
      "G C U C G G G U U C C C U A U U C A A G A G C\n",
      "---------------------------------------------\n",
      "( ( ( ( ( ( ( - - ) ) ) ( ( ) ( - ) ) ) ) ) )\n"
     ]
    }
   ],
   "source": [
    "ns.dot_parentheses()"
   ]
  },
  {
   "cell_type": "code",
   "execution_count": 8,
   "metadata": {},
   "outputs": [
    {
     "data": {
      "text/plain": [
       "3"
      ]
     },
     "execution_count": 8,
     "metadata": {},
     "output_type": "execute_result"
    }
   ],
   "source": [
    "s = 'GCACGACG'\n",
    "ns = Nussinov(s, T)\n",
    "ns.solve()"
   ]
  },
  {
   "cell_type": "code",
   "execution_count": 9,
   "metadata": {},
   "outputs": [
    {
     "name": "stdout",
     "output_type": "stream",
     "text": [
      "G C A C G A C G\n",
      "---------------\n",
      "( ) - ( ( - ) )\n"
     ]
    }
   ],
   "source": [
    "ns.dot_parentheses()"
   ]
  },
  {
   "cell_type": "code",
   "execution_count": 14,
   "metadata": {},
   "outputs": [
    {
     "data": {
      "text/plain": [
       "1"
      ]
     },
     "execution_count": 14,
     "metadata": {},
     "output_type": "execute_result"
    }
   ],
   "source": [
    "s = 'ACUG'\n",
    "ns = Nussinov(s, T)\n",
    "ns.solve()"
   ]
  },
  {
   "cell_type": "code",
   "execution_count": 15,
   "metadata": {},
   "outputs": [
    {
     "name": "stdout",
     "output_type": "stream",
     "text": [
      "A C U G\n",
      "-------\n",
      "( - ) -\n"
     ]
    }
   ],
   "source": [
    "ns.dot_parentheses()"
   ]
  },
  {
   "cell_type": "code",
   "execution_count": 11,
   "metadata": {},
   "outputs": [
    {
     "data": {
      "text/plain": [
       "5"
      ]
     },
     "execution_count": 11,
     "metadata": {},
     "output_type": "execute_result"
    }
   ],
   "source": [
    "s = 'A ACUG GAUC GGUUCA'.replace(' ', '')\n",
    "ns = Nussinov(s, T)\n",
    "ns.solve()"
   ]
  },
  {
   "cell_type": "code",
   "execution_count": 12,
   "metadata": {},
   "outputs": [
    {
     "name": "stdout",
     "output_type": "stream",
     "text": [
      "A A C U G G A U C G G U U C A\n",
      "-----------------------------\n",
      "( ( ( - ) ( ( ) ) - - ) ) - -\n"
     ]
    }
   ],
   "source": [
    "ns.dot_parentheses()"
   ]
  },
  {
   "cell_type": "code",
   "execution_count": null,
   "metadata": {},
   "outputs": [],
   "source": []
  },
  {
   "cell_type": "code",
   "execution_count": null,
   "metadata": {},
   "outputs": [],
   "source": []
  }
 ],
 "metadata": {
  "kernelspec": {
   "display_name": "Python 3",
   "language": "python",
   "name": "python3"
  },
  "language_info": {
   "codemirror_mode": {
    "name": "ipython",
    "version": 3
   },
   "file_extension": ".py",
   "mimetype": "text/x-python",
   "name": "python",
   "nbconvert_exporter": "python",
   "pygments_lexer": "ipython3",
   "version": "3.7.3"
  }
 },
 "nbformat": 4,
 "nbformat_minor": 2
}
