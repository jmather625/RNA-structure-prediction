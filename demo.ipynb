{
 "cells": [
  {
   "cell_type": "code",
   "execution_count": 1,
   "metadata": {},
   "outputs": [],
   "source": [
    "from nussinov import Nussinov"
   ]
  },
  {
   "cell_type": "code",
   "execution_count": 2,
   "metadata": {},
   "outputs": [],
   "source": [
    "T = {\n",
    "    'A': 'U',\n",
    "    'G': 'C',\n",
    "    'C': 'G',\n",
    "    'U': 'A',\n",
    "}"
   ]
  },
  {
   "cell_type": "code",
   "execution_count": 3,
   "metadata": {},
   "outputs": [
    {
     "data": {
      "text/plain": [
       "10"
      ]
     },
     "execution_count": 3,
     "metadata": {},
     "output_type": "execute_result"
    }
   ],
   "source": [
    "s = 'GCUCGGG UUCCC UAU UCA AGAGC'.replace(' ', '') # should be 10\n",
    "s = s\n",
    "ns = Nussinov(s)\n",
    "ns.solve(min_padding=0)"
   ]
  },
  {
   "cell_type": "code",
   "execution_count": 4,
   "metadata": {},
   "outputs": [
    {
     "name": "stdout",
     "output_type": "stream",
     "text": [
      "G C U C G G G U U C C C U A U U C A A G A G C\n",
      "---------------------------------------------\n",
      "( ( ( ( ( ( ( - - ) ) ) ( ( ) ( - ) ) ) ) ) )\n"
     ]
    }
   ],
   "source": [
    "print(ns.dot_parentheses(prettify=True))"
   ]
  },
  {
   "cell_type": "code",
   "execution_count": 5,
   "metadata": {},
   "outputs": [
    {
     "name": "stdout",
     "output_type": "stream",
     "text": [
      "G C U C G G G U U C C C U A U U C A A G A G C\n",
      "---------------------------------------------\n",
      "( ) ( ( ) ( ( - - ) ) ( ( ) ( ( - ) ) ) ) ( )\n"
     ]
    }
   ],
   "source": [
    "ns.solve(min_padding=0, tie_break_permute=['B', 'M', 'D', 'L'])\n",
    "print(ns.dot_parentheses(prettify=True))"
   ]
  },
  {
   "cell_type": "code",
   "execution_count": 9,
   "metadata": {},
   "outputs": [],
   "source": [
    "result = ns.evaluate_tie_breaks(min_padding=0, prettify=True)"
   ]
  },
  {
   "cell_type": "code",
   "execution_count": 10,
   "metadata": {},
   "outputs": [
    {
     "data": {
      "text/plain": [
       "2"
      ]
     },
     "execution_count": 10,
     "metadata": {},
     "output_type": "execute_result"
    }
   ],
   "source": [
    "len(result.keys())"
   ]
  },
  {
   "cell_type": "code",
   "execution_count": 12,
   "metadata": {},
   "outputs": [
    {
     "data": {
      "text/plain": [
       "[('L', 'D', 'M', 'B'),\n",
       " ('L', 'M', 'D', 'B'),\n",
       " ('L', 'M', 'B', 'D'),\n",
       " ('D', 'L', 'M', 'B'),\n",
       " ('D', 'M', 'L', 'B'),\n",
       " ('D', 'M', 'B', 'L'),\n",
       " ('M', 'L', 'D', 'B'),\n",
       " ('M', 'L', 'B', 'D'),\n",
       " ('M', 'D', 'L', 'B'),\n",
       " ('M', 'D', 'B', 'L'),\n",
       " ('M', 'B', 'L', 'D'),\n",
       " ('M', 'B', 'D', 'L')]"
      ]
     },
     "execution_count": 12,
     "metadata": {},
     "output_type": "execute_result"
    }
   ],
   "source": [
    "possibilities = list(result.keys())\n",
    "\n",
    "result[possibilities[0]]"
   ]
  },
  {
   "cell_type": "code",
   "execution_count": 13,
   "metadata": {},
   "outputs": [
    {
     "data": {
      "text/plain": [
       "[('L', 'D', 'B', 'M'),\n",
       " ('L', 'B', 'D', 'M'),\n",
       " ('L', 'B', 'M', 'D'),\n",
       " ('D', 'L', 'B', 'M'),\n",
       " ('D', 'B', 'L', 'M'),\n",
       " ('D', 'B', 'M', 'L'),\n",
       " ('B', 'L', 'D', 'M'),\n",
       " ('B', 'L', 'M', 'D'),\n",
       " ('B', 'D', 'L', 'M'),\n",
       " ('B', 'D', 'M', 'L'),\n",
       " ('B', 'M', 'L', 'D'),\n",
       " ('B', 'M', 'D', 'L')]"
      ]
     },
     "execution_count": 13,
     "metadata": {},
     "output_type": "execute_result"
    }
   ],
   "source": [
    "result[possibilities[1]]"
   ]
  },
  {
   "cell_type": "markdown",
   "metadata": {},
   "source": [
    "There are clearly some patterns here. `B` and `M` are clearly at odds, and `L` and `D` evenly split on the options. We would like to further investigate these patterns. This includes the number of unique structures and their count distribution, the dynamics of the \"dominating\" options (most likely `B` and `M`) and the remaining options, and the affect of `min_padding.`\n",
    "\n",
    "A real example is below."
   ]
  },
  {
   "cell_type": "code",
   "execution_count": 21,
   "metadata": {},
   "outputs": [],
   "source": [
    "# https://rnacentral.org/rna/URS00000DE3E2/9606\n",
    "# Homo sapiens small nucleolar RNA, H/ACA box 73A (SNORA73A)\n",
    "\n",
    "s = 'GUCUUCUCAUUGAGCUCCUUUCUGUCUAUCAGUGGCAGUUUAUGGAUUCGCACGAGAAGAAGAGAGAAUUCACAGAACUAGCAUUAUUUUACCUUCUGUCUUUACAGAGGUAUAUUUAGCUGUAUUGUGAGACAUUC'"
   ]
  },
  {
   "cell_type": "code",
   "execution_count": 22,
   "metadata": {},
   "outputs": [
    {
     "name": "stdout",
     "output_type": "stream",
     "text": [
      "137\n"
     ]
    }
   ],
   "source": [
    "print(len(s))"
   ]
  },
  {
   "cell_type": "code",
   "execution_count": 56,
   "metadata": {},
   "outputs": [
    {
     "name": "stderr",
     "output_type": "stream",
     "text": [
      "100%|██████████| 9316/9316.0 [00:00<00:00, 14658.21it/s]\n"
     ]
    },
    {
     "data": {
      "text/plain": [
       "45"
      ]
     },
     "execution_count": 56,
     "metadata": {},
     "output_type": "execute_result"
    }
   ],
   "source": [
    "ns = Nussinov(s)\n",
    "ns.solve(min_padding=3)"
   ]
  },
  {
   "cell_type": "code",
   "execution_count": 38,
   "metadata": {},
   "outputs": [
    {
     "name": "stderr",
     "output_type": "stream",
     "text": [
      "100%|██████████| 9316/9316.0 [00:00<00:00, 14499.13it/s]\n",
      "100%|██████████| 9316/9316.0 [00:00<00:00, 14369.60it/s]\n",
      "100%|██████████| 9316/9316.0 [00:00<00:00, 15104.67it/s]\n",
      "100%|██████████| 9316/9316.0 [00:00<00:00, 14614.11it/s]\n",
      "100%|██████████| 9316/9316.0 [00:00<00:00, 15210.76it/s]\n",
      "100%|██████████| 9316/9316.0 [00:00<00:00, 14271.38it/s]\n",
      "100%|██████████| 9316/9316.0 [00:00<00:00, 15255.86it/s]\n",
      "100%|██████████| 9316/9316.0 [00:00<00:00, 14272.23it/s]\n",
      "100%|██████████| 9316/9316.0 [00:00<00:00, 15163.27it/s]\n",
      "100%|██████████| 9316/9316.0 [00:00<00:00, 14174.88it/s]\n",
      "100%|██████████| 9316/9316.0 [00:00<00:00, 14414.86it/s]\n",
      "100%|██████████| 9316/9316.0 [00:00<00:00, 13983.36it/s]\n",
      "100%|██████████| 9316/9316.0 [00:00<00:00, 15242.39it/s]\n",
      "100%|██████████| 9316/9316.0 [00:00<00:00, 13979.28it/s]\n",
      "100%|██████████| 9316/9316.0 [00:00<00:00, 14964.93it/s]\n",
      "100%|██████████| 9316/9316.0 [00:00<00:00, 14041.12it/s]\n",
      "100%|██████████| 9316/9316.0 [00:00<00:00, 15275.46it/s]\n",
      "100%|██████████| 9316/9316.0 [00:00<00:00, 13905.66it/s]\n",
      "100%|██████████| 9316/9316.0 [00:00<00:00, 15226.25it/s]\n",
      "100%|██████████| 9316/9316.0 [00:00<00:00, 13851.10it/s]\n",
      "100%|██████████| 9316/9316.0 [00:00<00:00, 15331.64it/s]\n",
      "100%|██████████| 9316/9316.0 [00:00<00:00, 14957.01it/s]\n",
      "100%|██████████| 9316/9316.0 [00:00<00:00, 14091.84it/s]\n",
      "100%|██████████| 9316/9316.0 [00:00<00:00, 15259.48it/s]\n"
     ]
    }
   ],
   "source": [
    "result = ns.evaluate_tie_breaks(min_padding=3, prettify=False)"
   ]
  },
  {
   "cell_type": "code",
   "execution_count": 39,
   "metadata": {},
   "outputs": [
    {
     "data": {
      "text/plain": [
       "13"
      ]
     },
     "execution_count": 39,
     "metadata": {},
     "output_type": "execute_result"
    }
   ],
   "source": [
    "len(result.keys())"
   ]
  },
  {
   "cell_type": "code",
   "execution_count": 40,
   "metadata": {},
   "outputs": [],
   "source": [
    "possibilities = list(result.keys())"
   ]
  },
  {
   "cell_type": "code",
   "execution_count": 41,
   "metadata": {},
   "outputs": [
    {
     "name": "stdout",
     "output_type": "stream",
     "text": [
      "0 1\n",
      "1 2\n",
      "2 2\n",
      "3 1\n",
      "4 4\n",
      "5 1\n",
      "6 1\n",
      "7 2\n",
      "8 1\n",
      "9 1\n",
      "10 2\n",
      "11 3\n",
      "12 3\n"
     ]
    }
   ],
   "source": [
    "for i, p in enumerate(possibilities):\n",
    "    print(i, len(result[p]))"
   ]
  },
  {
   "cell_type": "code",
   "execution_count": 42,
   "metadata": {},
   "outputs": [
    {
     "data": {
      "text/plain": [
       "[('D', 'L', 'M', 'B'),\n",
       " ('D', 'L', 'B', 'M'),\n",
       " ('D', 'B', 'L', 'M'),\n",
       " ('D', 'B', 'M', 'L')]"
      ]
     },
     "execution_count": 42,
     "metadata": {},
     "output_type": "execute_result"
    }
   ],
   "source": [
    "result[possibilities[4]]"
   ]
  },
  {
   "cell_type": "code",
   "execution_count": 43,
   "metadata": {},
   "outputs": [
    {
     "data": {
      "text/plain": [
       "[('B', 'L', 'D', 'M'), ('B', 'D', 'L', 'M'), ('B', 'D', 'M', 'L')]"
      ]
     },
     "execution_count": 43,
     "metadata": {},
     "output_type": "execute_result"
    }
   ],
   "source": [
    "result[possibilities[11]]"
   ]
  },
  {
   "cell_type": "code",
   "execution_count": 44,
   "metadata": {},
   "outputs": [
    {
     "data": {
      "text/plain": [
       "[('B', 'L', 'M', 'D'), ('B', 'M', 'L', 'D'), ('B', 'M', 'D', 'L')]"
      ]
     },
     "execution_count": 44,
     "metadata": {},
     "output_type": "execute_result"
    }
   ],
   "source": [
    "result[possibilities[12]]"
   ]
  },
  {
   "cell_type": "code",
   "execution_count": null,
   "metadata": {},
   "outputs": [],
   "source": []
  },
  {
   "cell_type": "code",
   "execution_count": 53,
   "metadata": {},
   "outputs": [],
   "source": [
    "# website dot_bracket notation:\n",
    "official = \"..((((((.....(((((...(((((.......))))).....)))...))..))))))..........((((((.................((((((......))))))..............)))))).......\"\n"
   ]
  },
  {
   "cell_type": "code",
   "execution_count": 54,
   "metadata": {},
   "outputs": [],
   "source": [
    "count = 0\n",
    "for c in official:\n",
    "    if c == '(':\n",
    "        count += 1"
   ]
  },
  {
   "cell_type": "code",
   "execution_count": 55,
   "metadata": {},
   "outputs": [
    {
     "data": {
      "text/plain": [
       "28"
      ]
     },
     "execution_count": 55,
     "metadata": {},
     "output_type": "execute_result"
    }
   ],
   "source": [
    "count"
   ]
  },
  {
   "cell_type": "code",
   "execution_count": null,
   "metadata": {},
   "outputs": [],
   "source": []
  }
 ],
 "metadata": {
  "kernelspec": {
   "display_name": "Python 3",
   "language": "python",
   "name": "python3"
  },
  "language_info": {
   "codemirror_mode": {
    "name": "ipython",
    "version": 3
   },
   "file_extension": ".py",
   "mimetype": "text/x-python",
   "name": "python",
   "nbconvert_exporter": "python",
   "pygments_lexer": "ipython3",
   "version": "3.7.3"
  }
 },
 "nbformat": 4,
 "nbformat_minor": 2
}
