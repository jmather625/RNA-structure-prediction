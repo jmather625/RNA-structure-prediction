{
 "cells": [
  {
   "cell_type": "code",
   "execution_count": null,
   "metadata": {},
   "outputs": [],
   "source": [
    "from nussinov import Nussinov\n",
    "from greedy import GreedySolver"
   ]
  },
  {
   "cell_type": "code",
   "execution_count": null,
   "metadata": {},
   "outputs": [],
   "source": [
    "class RNA_Structure_Solver:\n",
    "    def __init__(self, mode):\n",
    "        assert mode in ['greedy', 'nussinov', 'zuker']\n",
    "        self.mode = mode\n",
    "        \n",
    "    def set_mode(self, mode):\n",
    "        assert mode in ['greedy', 'nussinov', 'zuker']\n",
    "        self.mode = mode\n",
    "        \n",
    "    def solve(self, sequence, min_padding=0, tie_break_permute=None, prettify=False):\n",
    "        \"\"\"\n",
    "            sequence: string of RNA bases represented as A,U,G,C\n",
    "            min_padding: minimum distance between two paired bases\n",
    "            tie_break_permute: None or order in which to break ties\n",
    "            prettify: True if pretty dot paranthesis is to be returned, otherwise False\n",
    "            \n",
    "            return: the number of pairings and the dot parantheses notation\n",
    "        \"\"\"\n",
    "        \n",
    "        if self.mode == 'greedy':\n",
    "            gr = GreedySolver(sequence)\n",
    "            score = gr.solve()\n",
    "            dot_p = gr.dot_parentheses(self, prettify)\n",
    "            return score, dot_p\n",
    "        \n",
    "        elif self.mode == 'nussinov':\n",
    "            nv = Nussinov(sequence)\n",
    "            score = nv.solve(min_padding, tie_break_permute)\n",
    "            dot_p = nv.dot_parentheses(self, prettify)\n",
    "            return score, dot_p\n",
    "            \n",
    "        elif self.mode == 'zuker':\n",
    "            zk = Zuker(sequence)\n",
    "            score = zk.solve(min_padding, tie_break_permute)\n",
    "            dot_p = zk.dot_parentheses(self, prettify)\n",
    "            return score, dot_p\n",
    "        \n",
    "        \n",
    "        raise ValueError('mode is not set')\n",
    "    "
   ]
  },
  {
   "cell_type": "code",
   "execution_count": null,
   "metadata": {},
   "outputs": [],
   "source": []
  },
  {
   "cell_type": "code",
   "execution_count": null,
   "metadata": {},
   "outputs": [],
   "source": []
  },
  {
   "cell_type": "code",
   "execution_count": null,
   "metadata": {},
   "outputs": [],
   "source": []
  }
 ],
 "metadata": {
  "kernelspec": {
   "display_name": "Python 3",
   "language": "python",
   "name": "python3"
  },
  "language_info": {
   "codemirror_mode": {
    "name": "ipython",
    "version": 3
   },
   "file_extension": ".py",
   "mimetype": "text/x-python",
   "name": "python",
   "nbconvert_exporter": "python",
   "pygments_lexer": "ipython3",
   "version": "3.7.3"
  }
 },
 "nbformat": 4,
 "nbformat_minor": 2
}
